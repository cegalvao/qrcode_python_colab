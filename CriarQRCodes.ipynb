{
  "nbformat": 4,
  "nbformat_minor": 0,
  "metadata": {
    "colab": {
      "name": "CriarQRCodes.ipynb",
      "provenance": [],
      "collapsed_sections": [],
      "authorship_tag": "ABX9TyO3fNReTOwnoSoJIioVAxPw",
      "include_colab_link": true
    },
    "kernelspec": {
      "name": "python3",
      "display_name": "Python 3"
    }
  },
  "cells": [
    {
      "cell_type": "markdown",
      "metadata": {
        "id": "view-in-github",
        "colab_type": "text"
      },
      "source": [
        "<a href=\"https://colab.research.google.com/github/cegalvao/qrcode_python_colab/blob/master/CriarQRCodes.ipynb\" target=\"_parent\"><img src=\"https://colab.research.google.com/assets/colab-badge.svg\" alt=\"Open In Colab\"/></a>"
      ]
    },
    {
      "cell_type": "markdown",
      "metadata": {
        "id": "FIvMK1FMTv08",
        "colab_type": "text"
      },
      "source": [
        "#Criação de Códigos QR"
      ]
    },
    {
      "cell_type": "markdown",
      "metadata": {
        "id": "PiU3uTgCR93i",
        "colab_type": "text"
      },
      "source": [
        "Para criar seu QR Code, tecle \"`Ctrl+F9`\" **OU** siga os seguintes passos:\n",
        "\n",
        "1.   Clique no menu \"`Runtime`\" (se aparecer em inglês - Em português \"`Ambiente de Execução`\", quinto menu);\n",
        "2.   Clique no primeiro comando \"`Run all`\" (Em português \"`Executar tudo`\").\n"
      ]
    },
    {
      "cell_type": "markdown",
      "metadata": {
        "id": "Sgm_rPy4T2Je",
        "colab_type": "text"
      },
      "source": [
        "## Instalações\n",
        "Não precisa alterar nada."
      ]
    },
    {
      "cell_type": "code",
      "metadata": {
        "id": "xi8qIKajKLwa",
        "colab_type": "code",
        "colab": {}
      },
      "source": [
        "!pip install pyqrcode pypng"
      ],
      "execution_count": null,
      "outputs": []
    },
    {
      "cell_type": "markdown",
      "metadata": {
        "id": "8H0W5p2QT9Xz",
        "colab_type": "text"
      },
      "source": [
        "## Importações\n",
        "\n",
        "Para o código Python ser executado e seu QRCode ser baixado, são chamados os pacotes abaixo. Não precisa alterar nada."
      ]
    },
    {
      "cell_type": "code",
      "metadata": {
        "id": "ClDhwXO6UhW-",
        "colab_type": "code",
        "colab": {}
      },
      "source": [
        "import pyqrcode\n",
        "from google.colab import files"
      ],
      "execution_count": 2,
      "outputs": []
    },
    {
      "cell_type": "markdown",
      "metadata": {
        "id": "uFzvK2Y-Uj61",
        "colab_type": "text"
      },
      "source": [
        "## Dados\n",
        "\n",
        "Informe o nome do arquivo a ser gerado e o link (ou texto) que terá o QRCode. Informe também quais serão os formatos de saída:\n",
        "*   PNG (Portable Network Graphics)\n",
        "*   SVG (Scalable Vector Graphics)\n",
        "*   EPS (Encapsulated PostScript)\n",
        "\n",
        "Sugestão: Escolha todos (opção 7) e verifique dentre os arquivos gerados o mais adequado.\n",
        "\n",
        "Caso tenha escolhido mais de um formato, é possível que o navegador peça autorização para múltiplos donwloads. Conceda a autorização para prosseguir.\n",
        "\n"
      ]
    },
    {
      "cell_type": "code",
      "metadata": {
        "id": "vbc7aMPDUt_L",
        "colab_type": "code",
        "colab": {}
      },
      "source": [
        "name = input('Digite o nome do arquivo:\\n')\n",
        "link = input('Digite o link/texto do QRCode:\\n')\n",
        "form = 0\n",
        "while form not in range(1,8):\n",
        "    try:  \n",
        "        form = int(input('Escolha os formatos de saída. Digite \\n 1 - Apenas PNG; \\n 2 - Apenas SVG; \\n 3 - SVG e PNG; \\n 4 - Apenas EPS; \\n 5 - EPS e PNG \\n 6 - EPS e SVG \\n 7 - Todos'))\n",
        "    except:\n",
        "        form = 0"
      ],
      "execution_count": null,
      "outputs": []
    },
    {
      "cell_type": "code",
      "metadata": {
        "id": "zibfmRRRLOLe",
        "colab_type": "code",
        "colab": {
          "base_uri": "https://localhost:8080/",
          "height": 17
        },
        "outputId": "7efaa9b9-8f26-4c33-8b8c-afc849a76dec"
      },
      "source": [
        "\n",
        "url = pyqrcode.create(link)\n",
        "archives = []\n",
        "\n",
        "form_files = f'{form:03b}'\n",
        "if form_files[-1]:\n",
        "  url.png(f'{name}.png', scale=6, module_color=[0, 0, 0, 128], background=[0xff, 0xff, 0xff])\n",
        "  archives.append(f'{name}.png')\n",
        "\n",
        "if form_files[-2]:\n",
        "  url.svg(f'{name}.svg', scale=8)\n",
        "  archives.append(f'{name}.svg')\n",
        "\n",
        "if form_files[-3]:\n",
        "  url.eps(f'{name}.eps', scale=2)\n",
        "  archives.append(f'{name}.eps')\n",
        "\n",
        "for f in archives:\n",
        "  files.download(f) \n"
      ],
      "execution_count": 9,
      "outputs": [
        {
          "output_type": "display_data",
          "data": {
            "application/javascript": [
              "\n",
              "    async function download(id, filename, size) {\n",
              "      if (!google.colab.kernel.accessAllowed) {\n",
              "        return;\n",
              "      }\n",
              "      const div = document.createElement('div');\n",
              "      const label = document.createElement('label');\n",
              "      label.textContent = `Downloading \"${filename}\": `;\n",
              "      div.appendChild(label);\n",
              "      const progress = document.createElement('progress');\n",
              "      progress.max = size;\n",
              "      div.appendChild(progress);\n",
              "      document.body.appendChild(div);\n",
              "\n",
              "      const buffers = [];\n",
              "      let downloaded = 0;\n",
              "\n",
              "      const channel = await google.colab.kernel.comms.open(id);\n",
              "      // Send a message to notify the kernel that we're ready.\n",
              "      channel.send({})\n",
              "\n",
              "      for await (const message of channel.messages) {\n",
              "        // Send a message to notify the kernel that we're ready.\n",
              "        channel.send({})\n",
              "        if (message.buffers) {\n",
              "          for (const buffer of message.buffers) {\n",
              "            buffers.push(buffer);\n",
              "            downloaded += buffer.byteLength;\n",
              "            progress.value = downloaded;\n",
              "          }\n",
              "        }\n",
              "      }\n",
              "      const blob = new Blob(buffers, {type: 'application/binary'});\n",
              "      const a = document.createElement('a');\n",
              "      a.href = window.URL.createObjectURL(blob);\n",
              "      a.download = filename;\n",
              "      div.appendChild(a);\n",
              "      a.click();\n",
              "      div.remove();\n",
              "    }\n",
              "  "
            ],
            "text/plain": [
              "<IPython.core.display.Javascript object>"
            ]
          },
          "metadata": {
            "tags": []
          }
        },
        {
          "output_type": "display_data",
          "data": {
            "application/javascript": [
              "download(\"download_0585649a-a848-47e7-ae17-f988e6e283a7\", \"teste.png\", 397)"
            ],
            "text/plain": [
              "<IPython.core.display.Javascript object>"
            ]
          },
          "metadata": {
            "tags": []
          }
        },
        {
          "output_type": "display_data",
          "data": {
            "application/javascript": [
              "\n",
              "    async function download(id, filename, size) {\n",
              "      if (!google.colab.kernel.accessAllowed) {\n",
              "        return;\n",
              "      }\n",
              "      const div = document.createElement('div');\n",
              "      const label = document.createElement('label');\n",
              "      label.textContent = `Downloading \"${filename}\": `;\n",
              "      div.appendChild(label);\n",
              "      const progress = document.createElement('progress');\n",
              "      progress.max = size;\n",
              "      div.appendChild(progress);\n",
              "      document.body.appendChild(div);\n",
              "\n",
              "      const buffers = [];\n",
              "      let downloaded = 0;\n",
              "\n",
              "      const channel = await google.colab.kernel.comms.open(id);\n",
              "      // Send a message to notify the kernel that we're ready.\n",
              "      channel.send({})\n",
              "\n",
              "      for await (const message of channel.messages) {\n",
              "        // Send a message to notify the kernel that we're ready.\n",
              "        channel.send({})\n",
              "        if (message.buffers) {\n",
              "          for (const buffer of message.buffers) {\n",
              "            buffers.push(buffer);\n",
              "            downloaded += buffer.byteLength;\n",
              "            progress.value = downloaded;\n",
              "          }\n",
              "        }\n",
              "      }\n",
              "      const blob = new Blob(buffers, {type: 'application/binary'});\n",
              "      const a = document.createElement('a');\n",
              "      a.href = window.URL.createObjectURL(blob);\n",
              "      a.download = filename;\n",
              "      div.appendChild(a);\n",
              "      a.click();\n",
              "      div.remove();\n",
              "    }\n",
              "  "
            ],
            "text/plain": [
              "<IPython.core.display.Javascript object>"
            ]
          },
          "metadata": {
            "tags": []
          }
        },
        {
          "output_type": "display_data",
          "data": {
            "application/javascript": [
              "download(\"download_98f932b6-59fa-4942-9dd2-2fac20cc53e5\", \"teste.svg\", 1576)"
            ],
            "text/plain": [
              "<IPython.core.display.Javascript object>"
            ]
          },
          "metadata": {
            "tags": []
          }
        },
        {
          "output_type": "display_data",
          "data": {
            "application/javascript": [
              "\n",
              "    async function download(id, filename, size) {\n",
              "      if (!google.colab.kernel.accessAllowed) {\n",
              "        return;\n",
              "      }\n",
              "      const div = document.createElement('div');\n",
              "      const label = document.createElement('label');\n",
              "      label.textContent = `Downloading \"${filename}\": `;\n",
              "      div.appendChild(label);\n",
              "      const progress = document.createElement('progress');\n",
              "      progress.max = size;\n",
              "      div.appendChild(progress);\n",
              "      document.body.appendChild(div);\n",
              "\n",
              "      const buffers = [];\n",
              "      let downloaded = 0;\n",
              "\n",
              "      const channel = await google.colab.kernel.comms.open(id);\n",
              "      // Send a message to notify the kernel that we're ready.\n",
              "      channel.send({})\n",
              "\n",
              "      for await (const message of channel.messages) {\n",
              "        // Send a message to notify the kernel that we're ready.\n",
              "        channel.send({})\n",
              "        if (message.buffers) {\n",
              "          for (const buffer of message.buffers) {\n",
              "            buffers.push(buffer);\n",
              "            downloaded += buffer.byteLength;\n",
              "            progress.value = downloaded;\n",
              "          }\n",
              "        }\n",
              "      }\n",
              "      const blob = new Blob(buffers, {type: 'application/binary'});\n",
              "      const a = document.createElement('a');\n",
              "      a.href = window.URL.createObjectURL(blob);\n",
              "      a.download = filename;\n",
              "      div.appendChild(a);\n",
              "      a.click();\n",
              "      div.remove();\n",
              "    }\n",
              "  "
            ],
            "text/plain": [
              "<IPython.core.display.Javascript object>"
            ]
          },
          "metadata": {
            "tags": []
          }
        },
        {
          "output_type": "display_data",
          "data": {
            "application/javascript": [
              "download(\"download_b569144d-25a0-410d-a97e-97dea88eff5d\", \"teste.eps\", 3055)"
            ],
            "text/plain": [
              "<IPython.core.display.Javascript object>"
            ]
          },
          "metadata": {
            "tags": []
          }
        }
      ]
    }
  ]
}